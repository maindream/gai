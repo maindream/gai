{
 "cells": [
  {
   "cell_type": "code",
   "execution_count": 3,
   "metadata": {},
   "outputs": [],
   "source": [
    "import tensorflow as tf\n",
    "import numpy as np\n",
    "import matplotlib.pyplot as plt\n",
    "from pathlib import Path\n",
    "import time\n",
    "import math"
   ]
  },
  {
   "cell_type": "code",
   "execution_count": 4,
   "metadata": {},
   "outputs": [
    {
     "data": {
      "text/plain": [
       "'1.12.0'"
      ]
     },
     "execution_count": 4,
     "metadata": {},
     "output_type": "execute_result"
    }
   ],
   "source": [
    "tf.__version__"
   ]
  },
  {
   "cell_type": "markdown",
   "metadata": {},
   "source": [
    "https://ireneli.eu/2017/01/17/tensorflow-07-word-embeddings-2-loading-pre-trained-vectors/"
   ]
  },
  {
   "cell_type": "code",
   "execution_count": null,
   "metadata": {},
   "outputs": [],
   "source": [
    "url = \"http://nlp.stanford.edu/data/glove.6B.zip\""
   ]
  },
  {
   "cell_type": "code",
   "execution_count": 10,
   "metadata": {},
   "outputs": [
    {
     "name": "stdout",
     "output_type": "stream",
     "text": [
      "Loaded GloVe!\n",
      "Wall time: 3.55 s\n"
     ]
    }
   ],
   "source": [
    "%%time\n",
    "\n",
    "# 50차원에 embedding 된 데이터를 로컬에 다운로드해서 로드함.\n",
    "filename = Path('./embedding/glove.6B.50d.txt')\n",
    "\n",
    "def load_gloVe(filename):\n",
    "    vocab = []\n",
    "    embed = []\n",
    "    file = open(filename, 'r', encoding='UTF8')\n",
    "    for line in file.readlines():\n",
    "        row = line.strip().split(' ')\n",
    "        vocab.append(row[0])\n",
    "        embed.append(row[1:])\n",
    "    print('Loaded GloVe!')\n",
    "    file.close()\n",
    "    return vocab,embed\n",
    "\n",
    "\n",
    "def load_toy_gloVe(filename):\n",
    "    vocab = []\n",
    "    embed = []\n",
    "    file = open(filename, 'r', encoding='UTF8')\n",
    "    for line in file.readlines():\n",
    "        row = line.strip().split(' ')\n",
    "        vocab.append(row[0])\n",
    "        embed.append(row[1:11])\n",
    "    print('Loaded GloVe!')\n",
    "    file.close()\n",
    "    return vocab,embed\n",
    "\n",
    "\n",
    "vocab, embed = load_toy_gloVe(filename)\n",
    "vocab_size = len(vocab)\n",
    "\n",
    "embedding_dim = len(embed[0])\n",
    "embedding = np.asarray(embed, dtype=np.float64)"
   ]
  },
  {
   "cell_type": "code",
   "execution_count": 94,
   "metadata": {},
   "outputs": [
    {
     "name": "stdout",
     "output_type": "stream",
     "text": [
      "너무 큰 임베딩 차원은 보기에도 불편하고 예제에 부적절하므로,\n",
      "편의상 임베딩 차원은 10차원으로 한다. (load_toy_gloVe 참조)\n",
      "\n",
      "아래의 스무 단어를 한 문장이라고 하자. (예를 들어)\n",
      "['the', ',', '.', 'of', 'to', 'and', 'in', 'a', '\"', \"'s\", 'for', '-', 'that', 'on', 'is', 'was', 'said', 'with', 'he', 'as']\n",
      "\n",
      "문장을 embedding한 결과를 시각화하면 다음과 같다. 세로 축은 문장 길이. 가로 축은 임베딩 차원.\n",
      "한 줄이 한 단어의 10차원 표현이다.\n"
     ]
    },
    {
     "data": {
      "image/png": "[encoded data removed]",
      "text/plain": [
       "<Figure size 432x288 with 1 Axes>"
      ]
     },
     "metadata": {
      "needs_background": "light"
     },
     "output_type": "display_data"
    }
   ],
   "source": [
    "print(\"너무 큰 임베딩 차원은 보기에도 불편하고 예제에 부적절하므로,\")\n",
    "print(\"편의상 임베딩 차원은 10차원으로 한다. (load_toy_gloVe 참조)\")\n",
    "d_model = 10\n",
    "len_sentence = 20\n",
    "\n",
    "print(\"\\n아래의 스무 단어를 한 문장이라고 하자. (예를 들어)\")\n",
    "print(vocab[:20])\n",
    "\n",
    "sentence = embedding[:20]\n",
    "print(\"\\n문장을 embedding한 결과를 시각화하면 다음과 같다. 세로 축은 문장 길이. 가로 축은 임베딩 차원.\")\n",
    "print(\"한 줄이 한 단어의 {}차원 표현이다.\".format(d_model))\n",
    "plt.imshow(sentence)\n",
    "plt.show()"
   ]
  },
  {
   "cell_type": "markdown",
   "metadata": {},
   "source": [
    "RNN 에선 인풋 데이터가 들어가는 순서가 있지만, Attention 모델에서는 입력 순서가 별도로 주어지지 않으므로, 어떤 식으로든 포지션을 인코딩 해야 한다. 차원을 하나 늘여서 포지션을 줘도 되고, 뭘로 해도 되는데 (performance 측면에선 테스트 해 봐야겠지만.) 논문에서는 sin, cos 값을 더해주는 방식으로 진행했다. 논문에서도 다른 방법 써도 된다고 함.\n",
    "\n",
    "## Positional Encoding\n",
    "$$  PE(pos,2i) = \\sin(pos/10000^{2i/d_{model}}) $$\n",
    "$$ PE(pos,2i+1) = \\cos(pos/10000^{2i/d_{model}}) $$\n",
    "\n",
    "pos는 위치, i 는 embedding의 차원, d는 모델의 허용 크기"
   ]
  },
  {
   "cell_type": "code",
   "execution_count": 96,
   "metadata": {},
   "outputs": [
    {
     "name": "stdout",
     "output_type": "stream",
     "text": [
      "임베딩 결과는 아래와 같다. 세로축이 문장 길이, 가로축이 임베딩 차원.\n"
     ]
    },
    {
     "data": {
      "text/plain": [
       "<Figure size 720x720 with 0 Axes>"
      ]
     },
     "metadata": {},
     "output_type": "display_data"
    },
    {
     "data": {
      "image/png": "[encoded data removed]",
      "text/plain": [
       "<Figure size 288x576 with 1 Axes>"
      ]
     },
     "metadata": {
      "needs_background": "light"
     },
     "output_type": "display_data"
    },
    {
     "name": "stdout",
     "output_type": "stream",
     "text": [
      "http://jalammar.github.io/illustrated-transformer/ 에서는 아래와 같이 홀 짝을 나눠서 보기 쉽게 표현함.\n"
     ]
    },
    {
     "data": {
      "text/plain": [
       "<Figure size 720x720 with 0 Axes>"
      ]
     },
     "metadata": {},
     "output_type": "display_data"
    },
    {
     "data": {
      "image/png": "[encoded data removed]",
      "text/plain": [
       "<Figure size 288x576 with 1 Axes>"
      ]
     },
     "metadata": {
      "needs_background": "light"
     },
     "output_type": "display_data"
    }
   ],
   "source": [
    "# 짝수 번째는 위 식, 홀수 번째는 위 식으로 포지션 인코딩이 결정되고\n",
    "# 이 값을 원래 벡터에 더해주면 된다.\n",
    "pos_enc = np.zeros((len_sentence, d_model))\n",
    "\n",
    "for pos in range(len_sentence):\n",
    "    for i in range(int(d_model/2)):\n",
    "        pos_enc[pos, 2*i] = math.sin(pos / (10000 ** (2*i / d_model)))\n",
    "        pos_enc[pos, 2*i+1] = math.cos(pos / (10000 ** (2*i / d_model)))\n",
    "print(\"임베딩 결과는 아래와 같다. 세로축이 문장 길이, 가로축이 임베딩 차원.\")\n",
    "plt.figure(figsize=(10, 10))\n",
    "plt.matshow(pos_enc)\n",
    "plt.show()\n",
    "\n",
    "print(\"http://jalammar.github.io/illustrated-transformer/ 에서는 아래와 같이 홀 짝을 나눠서 보기 쉽게 표현함.\")\n",
    "\n",
    "pos_enc_even = pos_enc[:, range(0, d_model, 2)]\n",
    "pos_enc_odd = pos_enc[:, range(1, d_model, 2)]\n",
    "pos_enc_visualize = np.hstack([pos_enc_even, pos_enc_odd])\n",
    "\n",
    "plt.figure(figsize=(10, 10))\n",
    "plt.matshow(pos_enc_visualize)\n",
    "plt.show()"
   ]
  },
  {
   "cell_type": "code",
   "execution_count": 105,
   "metadata": {},
   "outputs": [
    {
     "data": {
      "image/png": "[encoded data removed]",
      "text/plain": [
       "<Figure size 432x288 with 1 Axes>"
      ]
     },
     "metadata": {
      "needs_background": "light"
     },
     "output_type": "display_data"
    },
    {
     "name": "stdout",
     "output_type": "stream",
     "text": [
      "이걸 우리의 문장에 더해주자.\n",
      "원래 문장은 이랬는데,\n"
     ]
    },
    {
     "data": {
      "image/png": "[encoded data removed]",
      "text/plain": [
       "<Figure size 432x288 with 1 Axes>"
      ]
     },
     "metadata": {
      "needs_background": "light"
     },
     "output_type": "display_data"
    },
    {
     "name": "stdout",
     "output_type": "stream",
     "text": [
      "포지션 인코딩이 더해지면서 이렇게 바뀐다.\n"
     ]
    },
    {
     "data": {
      "image/png": "[encoded data removed]",
      "text/plain": [
       "<Figure size 432x288 with 1 Axes>"
      ]
     },
     "metadata": {
      "needs_background": "light"
     },
     "output_type": "display_data"
    }
   ],
   "source": [
    "# 위 내용을 함수로 간단히 쓰면 아래와 같다.\n",
    "\n",
    "def get_pos_enc(d_model, len_sentence):\n",
    "    pos_enc = np.zeros((len_sentence, d_model))\n",
    "\n",
    "    for pos in range(len_sentence):\n",
    "        for i in range(int(d_model/2)):\n",
    "            pos_enc[pos, 2*i] = math.sin(pos / (10000 ** (2*i / d_model)))\n",
    "            pos_enc[pos, 2*i+1] = math.cos(pos / (10000 ** (2*i / d_model)))\n",
    "    return pos_enc\n",
    "\n",
    "pos_enc = get_pos_enc(d_model, len_sentence)\n",
    "plt.imshow(pos_enc)\n",
    "plt.show()\n",
    "\n",
    "print(\"이걸 우리의 문장에 더해주자.\")\n",
    "print(\"원래 문장은 이랬는데,\")\n",
    "plt.imshow(sentence)\n",
    "plt.show()\n",
    "\n",
    "print(\"포지션 인코딩이 더해지면서 이렇게 바뀐다.\")\n",
    "pos_enc_sentence = sentence + pos_enc\n",
    "plt.imshow(pos_enc_sentence, cmap='pink')\n",
    "plt.show()"
   ]
  }
 ],
 "metadata": {
  "kernelspec": {
   "display_name": "Python [default]",
   "language": "python",
   "name": "python3"
  },
  "language_info": {
   "codemirror_mode": {
    "name": "ipython",
    "version": 3
   },
   "file_extension": ".py",
   "mimetype": "text/x-python",
   "name": "python",
   "nbconvert_exporter": "python",
   "pygments_lexer": "ipython3",
   "version": "3.6.6"
  }
 },
 "nbformat": 4,
 "nbformat_minor": 2
}
